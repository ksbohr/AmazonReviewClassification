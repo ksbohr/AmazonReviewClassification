{
 "cells": [
  {
   "cell_type": "code",
   "execution_count": 338,
   "id": "52d83350",
   "metadata": {},
   "outputs": [
    {
     "name": "stderr",
     "output_type": "stream",
     "text": [
      "[nltk_data] Downloading package punkt to\n",
      "[nltk_data]     C:\\Users\\sambo\\AppData\\Roaming\\nltk_data...\n",
      "[nltk_data]   Package punkt is already up-to-date!\n",
      "[nltk_data] Downloading package averaged_perceptron_tagger to\n",
      "[nltk_data]     C:\\Users\\sambo\\AppData\\Roaming\\nltk_data...\n",
      "[nltk_data]   Package averaged_perceptron_tagger is already up-to-\n",
      "[nltk_data]       date!\n",
      "[nltk_data] Downloading package wordnet to\n",
      "[nltk_data]     C:\\Users\\sambo\\AppData\\Roaming\\nltk_data...\n",
      "[nltk_data]   Package wordnet is already up-to-date!\n"
     ]
    }
   ],
   "source": [
    "import pandas as pd\n",
    "import requests\n",
    "from bs4 import BeautifulSoup\n",
    "import nltk\n",
    "from __future__ import print_function\n",
    "import matplotlib.pyplot as plt\n",
    "import numpy as np\n",
    "import os\n",
    "import sys\n",
    "import gzip\n",
    "import seaborn as sns\n",
    "import string, re\n",
    "from time import time\n",
    "import warnings\n",
    "\n",
    "nltk.download('punkt')\n",
    "nltk.download('averaged_perceptron_tagger')\n",
    "nltk.download('wordnet')\n",
    "\n",
    "warnings.filterwarnings('ignore')"
   ]
  },
  {
   "cell_type": "code",
   "execution_count": 339,
   "id": "f98e99f9",
   "metadata": {},
   "outputs": [],
   "source": [
    "pages = []\n",
    "RAN = 42\n",
    "for i in range(1,500):\n",
    "    url = 'https://www.amazon.com/adidas-Womens-Cloudfoam-Pure-Running/product-reviews/B09JSXQ3YX/ref=cm_cr_arp_d_paging_btm_next_501?ie=UTF8&reviewerType=all_reviews&pageNumber={}'.format(i)\n",
    "    pages.append(url)"
   ]
  },
  {
   "cell_type": "code",
   "execution_count": 340,
   "id": "a6863834",
   "metadata": {},
   "outputs": [],
   "source": [
    "import requests\n",
    "\n",
    "cookies = {\n",
    "    'ad-id': 'A0EIkkLeJEigg9ioDp9cqd4',\n",
    "    'ad-privacy': '0',\n",
    "}\n",
    "\n",
    "headers = {\n",
    "    'Connection': 'keep-alive',\n",
    "    'sec-ch-ua': '\" Not A;Brand\";v=\"99\", \"Chromium\";v=\"96\", \"Google Chrome\";v=\"96\"',\n",
    "    'sec-ch-ua-mobile': '?0',\n",
    "    'sec-ch-ua-platform': '\"Windows\"',\n",
    "    'Upgrade-Insecure-Requests': '1',\n",
    "    'User-Agent': 'Mozilla/5.0 (Windows NT 10.0; Win64; x64) AppleWebKit/537.36 (KHTML, like Gecko) Chrome/96.0.4664.45 Safari/537.36',\n",
    "    'Accept': 'text/html,application/xhtml+xml,application/xml;q=0.9,image/avif,image/webp,image/apng,*/*;q=0.8,application/signed-exchange;v=b3;q=0.9',\n",
    "    'Sec-Fetch-Site': 'same-origin',\n",
    "    'Sec-Fetch-Mode': 'navigate',\n",
    "    'Sec-Fetch-Dest': 'iframe',\n",
    "    'Referer': 'https://s.amazon-adsystem.com/iu3?d=amazon.com&slot=navFooter&a1=01019858643e3c5ffd851d342918ec6d3372a82612b185a97c81ceac3d75db7e3f04&a2=0101ab8d517a331cb50a17cae980927ff0dc40169cd17755efdf08e1d631d7b78a31&old_oo=0&ts=1637701310671&s=Ae8g3pCHs5ythEza23r973kYxKDJw7jW490u6aa2EOzv&gdpr_consent=&gdpr_consent_avl=&cb=1637701310671',\n",
    "    'Accept-Language': 'en-US,en;q=0.9',\n",
    "}\n",
    "params = (\n",
    "    ('exlist', 'n-zeotap-4_n-rb-HMT3_adelphic_n-lucid'),\n",
    "    ('fv', '1.0'),\n",
    "    ('a', 'cm'),\n",
    "    ('ep', 'NLmAUJwOczdiLfS7QPdybuNke30UqfwcM3I2JYg1q_ycRcfszt5Jm83PE2b7TWxJ'),\n",
    ")\n",
    "\n",
    "response = requests.get('https://s.amazon-adsystem.com/v3/pr', headers=headers, params=params, cookies=cookies)"
   ]
  },
  {
   "cell_type": "code",
   "execution_count": 341,
   "id": "4a9f743b",
   "metadata": {},
   "outputs": [],
   "source": [
    "resp = requests.get(pages[0], headers=headers)"
   ]
  },
  {
   "cell_type": "code",
   "execution_count": 342,
   "id": "6084d4e0",
   "metadata": {},
   "outputs": [],
   "source": [
    "soup = BeautifulSoup(resp.text, \"html.parser\") # html.parser, lxml"
   ]
  },
  {
   "cell_type": "code",
   "execution_count": 343,
   "id": "fe75c058",
   "metadata": {},
   "outputs": [],
   "source": [
    "reviews = soup.find_all(\"div\", {\"class\": \"a-section review aok-relative\"})"
   ]
  },
  {
   "cell_type": "code",
   "execution_count": 344,
   "id": "d5cebc27",
   "metadata": {},
   "outputs": [],
   "source": [
    "def get_review_stars(soup_obj: BeautifulSoup) -> str:\n",
    "    try:\n",
    "        review_str = soup_obj.find('a', {\"class\": \"a-link-normal\"}).get_text()\n",
    "        return review_str\n",
    "    except Exception as e:\n",
    "        return 'no_stars'\n",
    "        print(e)"
   ]
  },
  {
   "cell_type": "code",
   "execution_count": 345,
   "id": "501b8e12",
   "metadata": {},
   "outputs": [],
   "source": [
    "def get_review_body(soup_obj: BeautifulSoup) -> str:\n",
    "    try:\n",
    "        review_body = soup_obj.find('span', \n",
    "            {\"class\": \"a-size-base review-text review-text-content\"}\n",
    "        ).get_text().strip()\n",
    "        return review_body\n",
    "    except Exception as e:\n",
    "        return 'no_body'\n",
    "        print(e)"
   ]
  },
  {
   "cell_type": "code",
   "execution_count": 346,
   "id": "b1945ad0",
   "metadata": {},
   "outputs": [],
   "source": [
    "def get_review_date(soup_obj: BeautifulSoup) -> str:\n",
    "    try:\n",
    "        review_date = soup_obj.find('span', \n",
    "            {\"class\": \"a-size-base a-color-secondary review-date\"}\n",
    "        ).get_text().strip()\n",
    "        return review_date\n",
    "    except Exception as e:\n",
    "        return 'no_date'\n",
    "        print(e)\n",
    "def get_review_components(soup_obj: BeautifulSoup) -> dict:\n",
    "    return {\n",
    "        'stars': get_review_stars(soup_obj) , \n",
    "        'body': get_review_body(soup_obj), \n",
    "        'date': get_review_date(soup_obj)\n",
    "    }"
   ]
  },
  {
   "cell_type": "code",
   "execution_count": 347,
   "id": "e73a00af",
   "metadata": {},
   "outputs": [],
   "source": [
    "records = [get_review_components(rev) for rev in reviews]\n",
    "df = pd.DataFrame.from_records(records)\n",
    "#df.to_csv('amazon_reviews2.csv')"
   ]
  },
  {
   "cell_type": "code",
   "execution_count": 348,
   "id": "2ff1a4bb",
   "metadata": {},
   "outputs": [],
   "source": [
    "ALL_REVIEWS = []\n",
    "\n",
    "for u in pages:\n",
    "    #print(u)\n",
    "    resp = requests.get(u, headers=headers)\n",
    "    soup = BeautifulSoup(resp.text, \"html.parser\")\n",
    "    reviews = soup.find_all(\"div\", {\"class\": \"a-section review aok-relative\"})\n",
    "    records = [get_review_components(rev) for rev in reviews]\n",
    "    ALL_REVIEWS.extend(records) "
   ]
  },
  {
   "cell_type": "code",
   "execution_count": 423,
   "id": "e337551c",
   "metadata": {},
   "outputs": [
    {
     "name": "stdout",
     "output_type": "stream",
     "text": [
      "(4990, 3)\n"
     ]
    }
   ],
   "source": [
    "df = pd.DataFrame.from_records(ALL_REVIEWS)\n",
    "print(df.shape)"
   ]
  },
  {
   "cell_type": "code",
   "execution_count": 424,
   "id": "aab06504",
   "metadata": {},
   "outputs": [],
   "source": [
    "df['stars'].replace({'0.0 out of 5 stars': 0,'1.0 out of 5 stars': 1,'2.0 out of 5 stars': 2,'3.0 out of 5 stars': 3,\n",
    "                    '4.0 out of 5 stars': 4,'5.0 out of 5 stars': 5}, inplace=True)"
   ]
  },
  {
   "cell_type": "code",
   "execution_count": 425,
   "id": "471a3e67",
   "metadata": {},
   "outputs": [],
   "source": [
    "a=[ 'VINE VOICE','TOP 1000 REVIEWER','TOP 500 REVIEWER']\n",
    "df = df[~df.stars.isin(a)]"
   ]
  },
  {
   "cell_type": "code",
   "execution_count": 426,
   "id": "8c206bb5",
   "metadata": {},
   "outputs": [
    {
     "name": "stdout",
     "output_type": "stream",
     "text": [
      "5    3503\n",
      "4     540\n",
      "3     385\n",
      "1     328\n",
      "2     226\n",
      "Name: stars, dtype: int64\n"
     ]
    },
    {
     "data": {
      "text/plain": [
       "<AxesSubplot:ylabel='stars'>"
      ]
     },
     "execution_count": 426,
     "metadata": {},
     "output_type": "execute_result"
    },
    {
     "data": {
      "image/png": "[encoded data removed]",
      "text/plain": [
       "<Figure size 432x288 with 1 Axes>"
      ]
     },
     "metadata": {
      "needs_background": "light"
     },
     "output_type": "display_data"
    }
   ],
   "source": [
    "x = df['stars'].value_counts()\n",
    "print(x)\n",
    "sns.barplot(x.index,x)"
   ]
  },
  {
   "cell_type": "code",
   "execution_count": 427,
   "id": "9f33a357",
   "metadata": {},
   "outputs": [
    {
     "name": "stdout",
     "output_type": "stream",
     "text": [
      "Null counts:  stars     0\n",
      "body      0\n",
      "date      0\n",
      "target    0\n",
      "dtype: int64\n",
      "1    4043\n",
      "0     939\n",
      "Name: target, dtype: int64\n"
     ]
    },
    {
     "data": {
      "text/plain": [
       "<AxesSubplot:ylabel='target'>"
      ]
     },
     "execution_count": 427,
     "metadata": {},
     "output_type": "execute_result"
    },
    {
     "data": {
      "image/png": "[encoded data removed]",
      "text/plain": [
       "<Figure size 432x288 with 1 Axes>"
      ]
     },
     "metadata": {
      "needs_background": "light"
     },
     "output_type": "display_data"
    }
   ],
   "source": [
    "df['target'] = np.where((df['stars'] > 3), 1, 0)\n",
    "print('Null counts: ', df.isna().sum())\n",
    "x = df['target'].value_counts()\n",
    "print(x)\n",
    "sns.barplot(x.index,x)"
   ]
  },
  {
   "cell_type": "code",
   "execution_count": 428,
   "id": "721507f5",
   "metadata": {
    "scrolled": true
   },
   "outputs": [],
   "source": [
    "df = df.dropna(subset=['body'])\n",
    "df = df.drop('date', 1)"
   ]
  },
  {
   "cell_type": "code",
   "execution_count": 430,
   "id": "b8297691",
   "metadata": {},
   "outputs": [],
   "source": [
    "duplicate = df[df.duplicated()]"
   ]
  },
  {
   "cell_type": "code",
   "execution_count": 431,
   "id": "89d3612f",
   "metadata": {},
   "outputs": [],
   "source": [
    "# convert to lower\n",
    "# delete punctuations\n",
    "#corpus = df.body.str.lower()\n",
    "#corpus = corpus.str.replace('[^\\w\\s]',' ')\n",
    "#df['body'] = corpus"
   ]
  },
  {
   "cell_type": "code",
   "execution_count": 432,
   "id": "de438d8e",
   "metadata": {},
   "outputs": [
    {
     "name": "stdout",
     "output_type": "stream",
     "text": [
      "count    4982.000000\n",
      "mean       31.847049\n",
      "std        32.738055\n",
      "min         0.000000\n",
      "25%        11.000000\n",
      "50%        24.000000\n",
      "75%        42.000000\n",
      "max       545.000000\n",
      "Name: word_count, dtype: float64\n",
      "Positive reviews:  28.91714073707643\n",
      "Negative reviews:  44.46219382321619\n"
     ]
    }
   ],
   "source": [
    "df['word_count'] = df['body'].apply(lambda x: len(str(x).split()))\n",
    "print(df.word_count.describe())\n",
    "print('Positive reviews: ', df[df['target']==1]['word_count'].mean())\n",
    "print('Negative reviews: ', df[df['target']==0]['word_count'].mean())"
   ]
  },
  {
   "cell_type": "code",
   "execution_count": 433,
   "id": "b9a5470d",
   "metadata": {},
   "outputs": [
    {
     "data": {
      "image/png": "[encoded data removed]",
      "text/plain": [
       "<Figure size 720x288 with 2 Axes>"
      ]
     },
     "metadata": {
      "needs_background": "light"
     },
     "output_type": "display_data"
    }
   ],
   "source": [
    "fig,(ax1,ax2)=plt.subplots(1,2,figsize=(10,4))\n",
    "train_words=df[df['target']==1]['word_count']\n",
    "ax1.hist(train_words,color='red')\n",
    "ax1.set_title('Good Review')\n",
    "train_words=df[df['target']==0]['word_count']\n",
    "ax2.hist(train_words,color='green')\n",
    "ax2.set_title('Bad Review')\n",
    "fig.suptitle('Words per review')\n",
    "plt.show()"
   ]
  },
  {
   "cell_type": "code",
   "execution_count": 434,
   "id": "012b0e97",
   "metadata": {
    "scrolled": true
   },
   "outputs": [
    {
     "data": {
      "image/png": "[encoded data removed]",
      "text/plain": [
       "<Figure size 720x288 with 2 Axes>"
      ]
     },
     "metadata": {
      "needs_background": "light"
     },
     "output_type": "display_data"
    }
   ],
   "source": [
    "df = df[df['word_count'] <= 150]\n",
    "\n",
    "fig,(ax1,ax2)=plt.subplots(1,2,figsize=(10,4))\n",
    "train_words=df[df['target']==1]['word_count']\n",
    "ax1.hist(train_words,color='red')\n",
    "ax1.set_title('Good Review')\n",
    "train_words=df[df['target']==0]['word_count']\n",
    "ax2.hist(train_words,color='green')\n",
    "ax2.set_title('Bad Review')\n",
    "fig.suptitle('Words per review')\n",
    "plt.show()"
   ]
  },
  {
   "cell_type": "code",
   "execution_count": 435,
   "id": "35b7b454",
   "metadata": {},
   "outputs": [
    {
     "name": "stdout",
     "output_type": "stream",
     "text": [
      "Positive reviews:  27.336574420344053\n",
      "Negative reviews:  41.35249457700651\n"
     ]
    }
   ],
   "source": [
    "print('Positive reviews: ', df[df['target']==1]['word_count'].mean())\n",
    "print('Negative reviews: ', df[df['target']==0]['word_count'].mean())"
   ]
  },
  {
   "cell_type": "code",
   "execution_count": 436,
   "id": "7e035aec",
   "metadata": {},
   "outputs": [],
   "source": [
    "from nltk.corpus import stopwords\n",
    "from nltk.tokenize import word_tokenize\n",
    "from nltk.stem import SnowballStemmer\n",
    "from nltk.corpus import wordnet\n",
    "from nltk.stem import WordNetLemmatizer"
   ]
  },
  {
   "cell_type": "markdown",
   "id": "7175deb7",
   "metadata": {},
   "source": [
    "## PREPROCESSING"
   ]
  },
  {
   "cell_type": "code",
   "execution_count": 437,
   "id": "88bbdd43",
   "metadata": {},
   "outputs": [],
   "source": [
    "def preprocess(text):\n",
    "    text = text.lower() \n",
    "    text=text.strip()  \n",
    "    text= re.compile('<.*?>').sub('', text) \n",
    "    text = re.compile('[%s]' % re.escape(string.punctuation)).sub(' ', text)  \n",
    "    text = re.sub('\\s+', ' ', text)  \n",
    "    text = re.sub(r'\\[[0-9]*\\]',' ',text) \n",
    "    text=re.sub(r'[^\\w\\s]', '', str(text).lower().strip())\n",
    "    text = re.sub(r'\\d',' ',text) \n",
    "    text = re.sub(r'\\s+',' ',text) \n",
    "    return text"
   ]
  },
  {
   "cell_type": "code",
   "execution_count": 438,
   "id": "e7c5d2d4",
   "metadata": {},
   "outputs": [],
   "source": [
    "def stopword(string):\n",
    "    a= [i for i in string.split() if i not in stopwords.words('english')]\n",
    "    return ' '.join(a)"
   ]
  },
  {
   "cell_type": "code",
   "execution_count": 439,
   "id": "d9cc7488",
   "metadata": {},
   "outputs": [],
   "source": [
    "wl = WordNetLemmatizer()\n",
    " \n",
    "# This is a helper function to map NTLK position tags\n",
    "def get_wordnet_pos(tag):\n",
    "    if tag.startswith('J'):\n",
    "        return wordnet.ADJ\n",
    "    elif tag.startswith('V'):\n",
    "        return wordnet.VERB\n",
    "    elif tag.startswith('N'):\n",
    "        return wordnet.NOUN\n",
    "    elif tag.startswith('R'):\n",
    "        return wordnet.ADV\n",
    "    else:\n",
    "        return wordnet.NOUN\n",
    "# Tokenize the sentence\n",
    "def lemmatizer(string):\n",
    "    word_pos_tags = nltk.pos_tag(word_tokenize(string)) # Get position tags\n",
    "    a=[wl.lemmatize(tag[0], get_wordnet_pos(tag[1])) for idx, tag in enumerate(word_pos_tags)] \n",
    "    return \" \".join(a)\n",
    "def finalpreprocess(string):\n",
    "    return lemmatizer(stopword(preprocess(string)))"
   ]
  },
  {
   "cell_type": "code",
   "execution_count": 440,
   "id": "c6c8ddcc",
   "metadata": {},
   "outputs": [
    {
     "data": {
      "text/plain": [
       "count            4933\n",
       "unique           4730\n",
       "top       comfortable\n",
       "freq               45\n",
       "Name: clean_text, dtype: object"
      ]
     },
     "execution_count": 440,
     "metadata": {},
     "output_type": "execute_result"
    }
   ],
   "source": [
    "df['clean_text'] = df['body'].apply(lambda x: finalpreprocess(x))\n",
    "df['clean_text'].describe()"
   ]
  },
  {
   "cell_type": "markdown",
   "id": "4f8a4a3e",
   "metadata": {},
   "source": [
    "## Model Split and Testing"
   ]
  },
  {
   "cell_type": "code",
   "execution_count": 441,
   "id": "c3cac0cf",
   "metadata": {},
   "outputs": [],
   "source": [
    "from sklearn.model_selection import train_test_split\n",
    "from sklearn.linear_model import LogisticRegression\n",
    "from sklearn.naive_bayes import MultinomialNB\n",
    "from sklearn.metrics import classification_report, f1_score, accuracy_score, confusion_matrix\n",
    "from sklearn.metrics import roc_curve, auc, roc_auc_score\n",
    "from mlxtend.plotting import plot_confusion_matrix"
   ]
  },
  {
   "cell_type": "code",
   "execution_count": 442,
   "id": "b5ad7d68",
   "metadata": {},
   "outputs": [
    {
     "name": "stdout",
     "output_type": "stream",
     "text": [
      "3946 3946 987 987\n"
     ]
    }
   ],
   "source": [
    "X_train, X_test, y_train, y_test = train_test_split(df[\"clean_text\"],df[\"target\"],test_size=0.2)\n",
    "\n",
    "X_train_tok = [nltk.word_tokenize(i) for i in X_train]  \n",
    "X_test_tok = [nltk.word_tokenize(i) for i in X_test]\n",
    "print(len(X_train), len(y_train), len(X_test), len(y_test))"
   ]
  },
  {
   "cell_type": "code",
   "execution_count": 443,
   "id": "45b3d19f",
   "metadata": {
    "scrolled": true
   },
   "outputs": [
    {
     "name": "stdout",
     "output_type": "stream",
     "text": [
      "(3946, 3460) (987, 3460)\n"
     ]
    }
   ],
   "source": [
    "vectorizer = TfidfVectorizer(use_idf=True)\n",
    "X_train_vectors = vectorizer.fit_transform(X_train) \n",
    "X_test_vectors = vectorizer.transform(X_test)\n",
    "print(X_train_vectors.shape, X_test_vectors.shape)"
   ]
  },
  {
   "cell_type": "code",
   "execution_count": 476,
   "id": "8a938711",
   "metadata": {},
   "outputs": [
    {
     "name": "stdout",
     "output_type": "stream",
     "text": [
      "Logistic Regression: \n",
      "              precision    recall  f1-score   support\n",
      "\n",
      "           0       0.80      0.64      0.71       174\n",
      "           1       0.93      0.97      0.95       813\n",
      "\n",
      "    accuracy                           0.91       987\n",
      "   macro avg       0.86      0.80      0.83       987\n",
      "weighted avg       0.90      0.91      0.90       987\n",
      "\n",
      "AUC: 0.9316954376440316\n"
     ]
    },
    {
     "data": {
      "image/png": "[encoded data removed]",
      "text/plain": [
       "<Figure size 432x288 with 1 Axes>"
      ]
     },
     "metadata": {
      "needs_background": "light"
     },
     "output_type": "display_data"
    }
   ],
   "source": [
    "lr=LogisticRegression(solver = 'sag', C=10, penalty = 'l2', random_state=RAN)\n",
    "lr.fit(X_train_vectors, y_train)  \n",
    "#Predict y value for test dataset\n",
    "y_predict = lr.predict(X_test_vectors)\n",
    "y_prob = lr.predict_proba(X_test_vectors)[:,1]\n",
    "print('Logistic Regression: ')\n",
    "print(classification_report(y_test,y_predict))\n",
    "cf_LR = confusion_matrix(y_test, y_predict)\n",
    "plot_confusion_matrix(conf_mat=cf_LR);\n",
    "fpr, tpr, thresholds = roc_curve(y_test, y_prob)\n",
    "roc_auc = auc(fpr, tpr)\n",
    "print('AUC:', roc_auc)"
   ]
  },
  {
   "cell_type": "code",
   "execution_count": 475,
   "id": "9dcad06f",
   "metadata": {},
   "outputs": [
    {
     "name": "stdout",
     "output_type": "stream",
     "text": [
      "Naive Bayes:\n",
      "              precision    recall  f1-score   support\n",
      "\n",
      "           0       0.66      0.68      0.67       174\n",
      "           1       0.93      0.92      0.93       813\n",
      "\n",
      "    accuracy                           0.88       987\n",
      "   macro avg       0.80      0.80      0.80       987\n",
      "weighted avg       0.88      0.88      0.88       987\n",
      "\n",
      "AUC: 0.9212261950205709\n"
     ]
    },
    {
     "data": {
      "image/png": "[encoded data removed]",
      "text/plain": [
       "<Figure size 432x288 with 1 Axes>"
      ]
     },
     "metadata": {
      "needs_background": "light"
     },
     "output_type": "display_data"
    }
   ],
   "source": [
    "nb = MultinomialNB(alpha = 0.5, fit_prior = False)\n",
    "nb.fit(X_train_vectors, y_train)\n",
    "#Predict y value for test dataset\n",
    "y_predict = nb.predict(X_test_vectors)\n",
    "y_prob = nb.predict_proba(X_test_vectors)[:,1]\n",
    "print('Naive Bayes:')\n",
    "print(classification_report(y_test,y_predict))\n",
    "cf_NB = confusion_matrix(y_test, y_predict)\n",
    "plot_confusion_matrix(conf_mat=cf_NB);\n",
    "fpr, tpr, thresholds = roc_curve(y_test, y_prob)\n",
    "roc_auc = auc(fpr, tpr)\n",
    "print('AUC:', roc_auc)"
   ]
  },
  {
   "cell_type": "code",
   "execution_count": null,
   "id": "dfc03f7e",
   "metadata": {},
   "outputs": [],
   "source": []
  }
 ],
 "metadata": {
  "kernelspec": {
   "display_name": "Python 3",
   "language": "python",
   "name": "python3"
  },
  "language_info": {
   "codemirror_mode": {
    "name": "ipython",
    "version": 3
   },
   "file_extension": ".py",
   "mimetype": "text/x-python",
   "name": "python",
   "nbconvert_exporter": "python",
   "pygments_lexer": "ipython3",
   "version": "3.8.8"
  }
 },
 "nbformat": 4,
 "nbformat_minor": 5
}
